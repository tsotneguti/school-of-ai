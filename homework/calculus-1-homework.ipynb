{
 "cells": [
  {
   "cell_type": "code",
   "execution_count": null,
   "metadata": {},
   "outputs": [],
   "source": [
    "%load_ext autoreload\n",
    "%autoreload 2\n",
    "\n",
    "%matplotlib inline"
   ]
  },
  {
   "cell_type": "markdown",
   "metadata": {},
   "source": [
    "## Basic setup"
   ]
  },
  {
   "cell_type": "markdown",
   "metadata": {},
   "source": [
    "Create anaconda environment\n",
    "<br>\n",
    "```bash\n",
    "conda create -n ml python=3.7.4 jupyter\n",
    "```\n",
    "Install fastai library\n",
    "<br>\n",
    "```bash\n",
    "conda install -c pytorch -c fastai fastai\n",
    "```"
   ]
  },
  {
   "cell_type": "code",
   "execution_count": null,
   "metadata": {},
   "outputs": [],
   "source": [
    "!pip install https://github.com/ipython-contrib/jupyter_contrib_nbextensions/tarball/master\n",
    "!pip install jupyter_nbextensions_configurator\n",
    "!jupyter contrib nbextension install --user\n",
    "!jupyter nbextensions_configurator enable --user"
   ]
  },
  {
   "cell_type": "markdown",
   "metadata": {},
   "source": [
    "# Metric spaces"
   ]
  },
  {
   "cell_type": "markdown",
   "metadata": {},
   "source": [
    "#### Prove that:\n",
    "For every metric space (X, d):\n",
    "- For eny $\\mathcal{U} = \\{U | U$ is open in $(X, d)\\}$ \n",
    "holds $\\bigcup_{U \\in \\mathcal{U}} U$ is open in $(X, d)$\n",
    "___\n",
    "პასუხი:\n",
    "\n",
    "ვთქვათ $ x \\in \\bigcup_{U \\in \\mathcal{U}} U$ , მაშინ x ეკუთვნის რომელიმე V ს , $V \\in \\mathcal{U}$.\n",
    "რადგან V არის ღია (X, d) ში :\n",
    "\n",
    "$\\exists \\epsilon>0: B_{\\epsilon}(x) \\subseteq V \\subseteq \\bigcup_{U \\in \\mathcal{U}} U$ ,\n",
    "სასდაც $B_{\\epsilon}(x)$ არის ღია ბირთვი (X, d) ში.\n",
    "\n",
    "რ.დ.გ.\n",
    "___\n",
    "- For eny two $U, V \\subset X$ open in $(X, d)$ holds: $U \\cap V$ is open in $(X, d)$\n",
    "___\n",
    "პასუხი:\n",
    "\n",
    "ვთქვათ $x \\in U \\cap V$ , ე.ი. $\\exists u,v>0: B_{u}(x) \\subseteq U$ და $B_{v}(x) \\subseteq V$ ,\n",
    "სადაც  $B_{u}(x)$ და $B_{v}(x)$ არიან X ის ღია ბირთვები.\n",
    "ვთქვათ m = min{u,v}, მაშინ $B_{m}(x) \\subseteq B_{u}(x) \\subseteq U$ და $B_{m}(x) \\subseteq B_{v}(x) \\subseteq V$.\n",
    "აქედან გამომდინარე $B_{m}(x) \\subseteq U \\cap V$\n",
    "\n",
    "რ.დ.გ.\n",
    "___\n",
    "- $X$ is open in $(X, d)$\n",
    "___\n",
    "პასუხი:\n",
    "\n",
    "განსაზღვრებიდან გამომდინარე, ღია სიმრავლე $S \\subseteq X$ არის სიმრავლე, რომლის ყველა ელემენტისთვის მოიძებნება ღია ბირთვი რომელსაც ეს (S) სიმრავლე შეიცავს.\n",
    "განმარტებიდან => ღია ბირთვი $x$($x \\in A$)ზე  (X,d) ში არის Aს ქვესიმრავლე.\n",
    "\n",
    "რ.დ.გ.  \n",
    "___\n",
    "- $\\emptyset$ is open in $(X, d)$\n",
    "___\n",
    "პასუხი:\n",
    "\n",
    "ცარიელ სიმრავლეში არ მოიძებნება ელემენტი, რომელსაც არ აქვს ღია ბირთვი რომელსაც არ შეიცავს ეს ($\\emptyset$) სიმრავლე,\n",
    "რადგან საერთოდ არ აქვს ელემენტები, ამიტომ შეგვიძლია ვთქვათ რომ ეს სიმრავლე არის ღია.\n",
    "\n",
    "რ.დ.გ \n",
    "___"
   ]
  },
  {
   "cell_type": "markdown",
   "metadata": {},
   "source": [
    "#### Prove that:\n",
    "- For eny finity set $(U)_{i=1}^{n}$ of open sets in $(X, d)$, $\\bigcap_{i=1}^{n}U$ is open in $(X, d)$\n",
    "___\n",
    "პასუხი:\n",
    "\n",
    "ვთქვათ $x \\in \\bigcap_{i=1}^{n}U_{i}$, თითოეული i სთვის $x \\in U_{i}$, ე.ი. $\\exists \\epsilon_{i}>0: B_{\\epsilon_{i}}(x) \\subseteq U_{i}$,\n",
    "სადაც  $B_{\\epsilon_{i}}(x)$ არიან X ის ღია ბირთვები.\n",
    "ვთქვათ $\\epsilon=\\min _{i=1}^{n}\\left\\{\\epsilon_{i}\\right\\}$, მაშინ $B_{\\epsilon}(x) \\subseteq B_{\\epsilon_{i}}(x) \\subseteq U_{i}$ ყველა $i \\in [1,2,\\dots,n]$.\n",
    "აქედან გამომდინარე $B_{\\epsilon}(x) \\subseteq \\bigcap_{i=1}^{n}U_{i}$\n",
    "\n",
    "რ.დ.გ.\n",
    "\n",
    "___"
   ]
  },
  {
   "cell_type": "markdown",
   "metadata": {},
   "source": [
    "#### Prove that for set $U \\subset X$ is open if and only if for each point $x \\in U$ there exists the open neighbourhood $V$ of $x$ such that $V \\subset U$\n",
    "___\n",
    "პასუხი:\n",
    "განმარტებიდან, U არის ღია სიმრავლე თუ მისი თითოეული ელემენტისთვის $x \\in U$ მოიძებნება ღია ბირთვი $B(x)$ რომელსაც მოიცავს $U$.\n",
    "შესაბამისი ღია neightbourhood თუ არ იარსებებს მაშინ ასევე არ იარსებებს ღია ბირთვიც, და ვერ იქნება ღია სიმრავლე.\n",
    "\n",
    "რ.დ.გ.\n",
    "___"
   ]
  },
  {
   "cell_type": "markdown",
   "metadata": {},
   "source": [
    "#### Prove that, closed ball is closed subset in $(X, d)$\n",
    "___\n",
    "პასუხი:\n",
    "\n",
    "დავუშვათ საწინააღმდეგო, თუ ჩაკეტილი ბირთვი არის ღია სიმრავლე, მაშინ განმარტებიდან გამომდინარე თითოეული $x \\in X$ სთვის უნდა არსებობდეს ღია ბირთვი $r > 0$ რადიუსით.\n",
    "ეს კი ეწინააღმდეგება ჩაკეტილი ბირთვის განმარტებას $B_{r}(x) = \\{y:y \\in X |  y-x \\le r\\}$ (y ებისთვის რომლისთვისაც $y-x = r$  არ იარსებებს ღია ბირთვი რომელსაც X მოიცავს)\n",
    "\n",
    "რ.დ.გ.\n",
    "___"
   ]
  },
  {
   "cell_type": "markdown",
   "metadata": {},
   "source": [
    "#### Prove that\n",
    "For every metric space (X, d):\n",
    "- For eny $\\mathcal{F} = \\{F | F$ is closed in $(X, d)\\}$ holds $\\bigcap_{F \\in \\mathcal{F}} F$ is closed in $(X, d)$\n",
    "___\n",
    "პასუხი:\n",
    "\n",
    "დემორგანის წესის გამოყენებით:\n",
    "\n",
    "$X \\backslash \\bigcap_{F \\in \\mathcal{F}} F=\\bigcup_{F \\in \\mathcal{F}} (X \\backslash F)$\n",
    "\n",
    "დახურული სიმრავლის განმარტებიდან, თითოეული $(X \\backslash F)$ ღიაა (X,d) ში.\n",
    "აქედან მათი გაერთიანებაც $\\bigcup_{F \\in \\mathcal{F}} (X \\backslash F)$ იქნება ღია.\n",
    "რადგან $X \\backslash \\bigcap_{F \\in \\mathcal{F}} F$ ღიაა, დახურილი სიმრავლეების განმარტებიდან გამოდის რომ $\\bigcap_{F \\in \\mathcal{F}} F$ დახურულია.\n",
    "\n",
    "რ.დ.გ.\n",
    "___\n",
    "- For eny two $F_1, F_2 \\subset X$ closed in $(X, d)$ holds: $F_1 \\cup F_2$ is closed in $(X, d)$\n",
    "___\n",
    "პასუხი:\n",
    "\n",
    "იხ. 2 დამტკიცების ქვემოთ. დავამტკიცე ზოგადი n ცალი სიმრავლის შემთხვევაში, რომელიც ამას მოიცავს.\n",
    "___\n",
    "- $X$ is closed in $(X, d)$\n",
    "___\n",
    "პასუხი:\n",
    "\n",
    "\n",
    "___\n",
    "- $\\emptyset$ is closed in $(X, d)$\n",
    "___\n",
    "პასუხი:\n",
    "\n",
    "დახურული სიმრავლის განმარტებიდან, სიმრავლე არის დახურული თუ მისი ნებისმიერი ელემენტი $x \\in X$ სთვის, \n",
    "მოიძებნება ღია ბირთვი $B(X) \\subseteq X$, \n",
    "ეს პირობა სრულდება რადგან ცარიელი სიმრავლე არ შეიცავს არცერთ ელემენტს.\n",
    "აედან შეგვილია ვთქვათ რომ ცარიელი სიმრავლე არის ჩაკეტილიც. \n",
    "___"
   ]
  },
  {
   "cell_type": "markdown",
   "metadata": {},
   "source": [
    "#### Prove that:\n",
    "- For eny finity set $(F)_{i=1}^{n}$ of closed sets in $(X, d)$, $\\bigcup_{i=1}^{n}F$ is closed in $(X, d)$\n",
    "___\n",
    "პასუხი:\n",
    "\n",
    "დემორგანის წესის გამოყენებით:\n",
    "\n",
    "$X \\backslash \\bigcup_{i=1}^{n}F_{i}=\\bigcap_{i=1}^{n} (X \\backslash F_{i})$\n",
    "\n",
    "დახურული ჯგუფების განსაზღვრებიდან გამომდინარე ყოველი $X \\backslash F_{i}$ არის ღია და ასევე მათი თანაკვეთაც არის ღია.\n",
    "ანუ $X \\backslash \\bigcup_{i=1}^{n}F_{i}$ არის ღია. დახურილი სიმრავლის განსაზღვრებიდან გამოდის, რომ \n",
    "$\\bigcup_{i=1}^{n}F_{i}$ არის დახურული.\n",
    "___"
   ]
  },
  {
   "cell_type": "markdown",
   "metadata": {},
   "source": [
    "#### Prove that, if $F \\subset X$ is closed then $X - F$ is open in $(X, d)$ "
   ]
  },
  {
   "cell_type": "markdown",
   "metadata": {},
   "source": [
    "# Metrics in Euclidean spaces"
   ]
  },
  {
   "cell_type": "markdown",
   "metadata": {},
   "source": [
    "#### Prove that:\n",
    "- for every $u, v \\in \\mathbb{R}^{n}$: $d(u, v) \\geq 0$\n",
    "- for every $v \\in \\mathbb{R}^{n}$: $d(v, v) = 0$\n",
    "- for every $u, v \\in \\mathbb{R}^{n}$: $d(u, v) = d(v, u)$ (symmetry)\n",
    "- for every $u, v, w \\in \\mathbb{R}^{n}$: $d(u, w) \\leq d(v, u) + d(v, w)$ (triangle inequality)"
   ]
  },
  {
   "cell_type": "markdown",
   "metadata": {},
   "source": [
    "#### Prove the same properties hold for $d(u, v) = ||u-v||_1$ ($||u-v||_1 = \\sum_{i = 1}^{n}|u_i - v_i|$)\n",
    "\n",
    "პასუხი:\n",
    "\n",
    "ყველა პირობა სრულდება ამ მანძილის ფუნქციისთვის რადგან:\n",
    "\n",
    "-  $d(u, v) \\geq 0$ , მოდულების ჯამი იქნება არაუარყოფითი\n",
    "-  $d(v, v) = 0 = n |0| = 0$\n",
    "-  $d(u, v) = d(v, u)$ , $|u_i-v_i|=|-(v_i-u_i)|=|v_i-u_i|$\n",
    "-  $d(u, w) \\leq d(v, u) + d(v, w)$, მოდულში გადანაცვლება რადგან შეგვილია განვიხილოთ დალაგებული სახით სიდიდეები ანუ ვთქვათ $v_i\\le v_i \\le w_i$, აქედან ცხადია რომ სხვავობების ჯამი ვერასდროს იქნება |w-u| ზე ნაკლები.\n",
    "\n",
    "რ.დ.გ."
   ]
  },
  {
   "cell_type": "markdown",
   "metadata": {},
   "source": [
    "## Sequences and limits"
   ]
  },
  {
   "cell_type": "markdown",
   "metadata": {},
   "source": [
    "#### Prove that $x = \\lim_{n\\to\\infty}{x_n}$ in $(X, d)$ if and only if (iff) for every $r \\in \\mathbb{R}$ there exists $n_0 \\in \\mathbb{N}$ such that: $x_i \\in B(x, r)$ for every $i \\gt n_0$\n",
    "___\n",
    "პასუხი:\n",
    "\n",
    "ზღვრის განმარტებიდან x არის მიმდევრობის ზღვარი მაშინ როცა ნებისმიერი $\\epsilon$ ისთვის მოიძებნება ისეთი $n_0 \\in \\mathbb{N}$ რომლიდან დაწყებულიც ყველა $|x - x_i| < \\epsilon$ -> ეს კი იგივეა რომ მოხვდება B(x,r) ში;.\n",
    "\n",
    "რ.დ.გ.\n",
    "___"
   ]
  },
  {
   "cell_type": "markdown",
   "metadata": {},
   "source": [
    "#### Prove that if $x = \\lim_{n\\to\\infty}{x_n}$ and $x \\notin \\{-\\infty, \\infty\\}$ then $(x_i)_{i=1}^{\\infty} = (x_1, x_2, \\dots, x_n)$ is a Cauchy sequence\n",
    "\n",
    "For closed set $F \\subset \\mathbb{R}^n$ and convergent sequence $(x_i)_{i=1}^{\\infty} = (x_1, x_2, \\dots, x_n)$ such that there exists $n_0 \\in \\mathbb{N}$ such that $x_i \\in F$ for each $i \\gt n_0$ then: $\\lim_{n\\to\\infty}{x_n} \\in F$"
   ]
  },
  {
   "cell_type": "markdown",
   "metadata": {},
   "source": [
    "#### Prove that if $F$ is open from previous example, statement does not hold. "
   ]
  },
  {
   "cell_type": "markdown",
   "metadata": {},
   "source": [
    "#### Prove that inherited metric is a metric"
   ]
  },
  {
   "cell_type": "markdown",
   "metadata": {},
   "source": [
    "## Limits of functions"
   ]
  },
  {
   "cell_type": "markdown",
   "metadata": {},
   "source": [
    "Let $f:S \\to Y$ is function between subset $S \\subset X$ of a metric space $(X, d_x)$ and metric space $(Y, d_Y)$\n",
    "- We say that the limit of function $f:(S, d_x) \\to (Y, d_Y)$ between metric spaces in some limit point $c \\in X$ of the subset $S$ is $y \\in Y $if for each open neighborhood of $y \\in V \\subset Y$ there exists the open seighborhood of $c \\in U \\subset X$ such that $f(U \\cap S) \\subset V$\n",
    "<br>\n",
    "This definition is equiualent of definition:\n",
    "<br>\n",
    "- The limit of function $f:(S, d_X) \\to (Y, d_Y)$ between metric spaces in limit point $c \\in X$ of the subset $S$ is $y \\in Y $ if for each open ball $B(x, r) \\subset Y$ there exists the ball $B(c, l) \\subset X$ such that $f(B(c, l) \\cap S) \\subset B(y, r)$\n",
    "<br>\n",
    "or\n",
    "<br>\n",
    "- The limit of function $f:(S, d_X) \\to (Y, d_Y)$ between metric spaces in limit point $c \\in X$ of subset $S$ is $y \\in Y $ if for any $r \\in \\mathbb{R}$ there exists $l \\in \\mathbb{R}$ such that for every $x \\in S$ with $d_X(x, c) < l$ implies that $d_Y(f(x), y) < r$"
   ]
  },
  {
   "cell_type": "markdown",
   "metadata": {},
   "source": [
    "#### Prove that this three definitions are equiualent for eny function between eny two metric spaces"
   ]
  },
  {
   "cell_type": "markdown",
   "metadata": {},
   "source": [
    "## Continuous functions "
   ]
  },
  {
   "cell_type": "markdown",
   "metadata": {},
   "source": [
    "#### Prove that function is continuous in $c$ if for eny sequence $(x_n)_{n=1}^{\\infty} \\subset X$ such that $\\lim_{n \\to \\infty}x_n = c$ we have $\\lim_{n \\to \\infty}f(x_n) = f(c)$"
   ]
  },
  {
   "cell_type": "markdown",
   "metadata": {},
   "source": [
    "#### Prove that function is continuous if for every open set $V \\subset Y$ the $f^{-1}(V)$ is open in $X$"
   ]
  },
  {
   "cell_type": "markdown",
   "metadata": {},
   "source": [
    "#### Prove that function is continuous if for every closed set $F \\subset Y$ the $f^{-1}(F)$ is open in $X$"
   ]
  },
  {
   "cell_type": "markdown",
   "metadata": {},
   "source": [
    "#### Prove that any composition of continous functions is continous"
   ]
  },
  {
   "cell_type": "code",
   "execution_count": null,
   "metadata": {},
   "outputs": [],
   "source": []
  }
 ],
 "metadata": {
  "kernelspec": {
   "display_name": "Python 3",
   "language": "python",
   "name": "python3"
  },
  "language_info": {
   "codemirror_mode": {
    "name": "ipython",
    "version": 3
   },
   "file_extension": ".py",
   "mimetype": "text/x-python",
   "name": "python",
   "nbconvert_exporter": "python",
   "pygments_lexer": "ipython3",
   "version": "3.7.4"
  },
  "pycharm": {
   "stem_cell": {
    "cell_type": "raw",
    "source": [],
    "metadata": {
     "collapsed": false
    }
   }
  }
 },
 "nbformat": 4,
 "nbformat_minor": 4
}