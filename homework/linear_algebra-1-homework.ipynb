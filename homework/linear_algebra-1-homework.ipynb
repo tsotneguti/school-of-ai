{
 "cells": [
  {
   "cell_type": "code",
   "execution_count": null,
   "metadata": {},
   "outputs": [],
   "source": [
    "%load_ext autoreload\n",
    "%autoreload 2\n",
    "\n",
    "%matplotlib inline"
   ]
  },
  {
   "cell_type": "markdown",
   "metadata": {},
   "source": [
    "## Basic setup"
   ]
  },
  {
   "cell_type": "markdown",
   "metadata": {},
   "source": [
    "Create anaconda environment\n",
    "<br>\n",
    "```bash\n",
    "conda create -n ml python=3.7.4 jupyter\n",
    "```\n",
    "Install fastai library\n",
    "<br>\n",
    "```bash\n",
    "conda install -c pytorch -c fastai fastai\n",
    "```"
   ]
  },
  {
   "cell_type": "markdown",
   "metadata": {},
   "source": [
    "# Set theory basics"
   ]
  },
  {
   "cell_type": "markdown",
   "metadata": {},
   "source": [
    "#### Prove that:\n",
    "\n",
    "$A \\subseteq A$\n",
    "___\n",
    "პასუხი:\n",
    "\n",
    "დავუშვათ საწინაღმდეგო, მაშინ განმარტებიდან გამომდინარე უნდა არსებობდეს ელემენტი $a \\in A$ , რომლისთვისაც  $a \\notin A$\n",
    "ეს ორი კი ერთმანეთს გამორიცხავს. $=>$ $ A \\subseteq A$"
   ]
  },
  {
   "cell_type": "markdown",
   "metadata": {},
   "source": [
    "#### Prove that:\n",
    "\n",
    "If $A \\subseteq B$ and $B \\subseteq A$ $\\to$ $A = B$\n",
    "\n",
    "___\n",
    "პასუხი:\n",
    "\n",
    "დავუშვათ საწინააღდეგო $A \\ne B$, მაშინ უნდა არსებობდეს ისეთი c, $c \\in A$ მხოლოდ,  ან $c \\in B$ მხოლოდ.\n",
    "წინამდებარე პირობიდან კი გამომდინარესობს, რომ თუ ელემენტი ეკუთვნის A ს შესაბამისად ეკუთვნის B საც, ეს კი მოდის წინააღმდეგობაში დაშვებასთან.\n",
    "რ.დ.გ. "
   ]
  },
  {
   "cell_type": "markdown",
   "metadata": {},
   "source": [
    "#### Prove that:\n",
    "\n",
    "if $B \\subset A$ then $A \\cap B = B$\n",
    "___\n",
    "პასუხი:\n",
    "\n",
    "დავუშვათ საპირისპირო $A \\cap B \\ne B$, მაშინ უნდა არსებობდეს ისეთი $b \\in B$, რომლისთვისაც $b \\notin A$\n",
    "ხოლო პირობიდან $B \\subset A$ დან გამომდინარეობს რომ ნებისმიერი $b \\in B$ სთვის $b \\in A$ რაც წინააღმდეგობაში მოდის დაშვებასთან.\n",
    "რ.დ.გ."
   ]
  },
  {
   "cell_type": "markdown",
   "metadata": {},
   "source": [
    "#### Prove that:\n",
    "\n",
    "$A \\cap B = B \\cap A$\n",
    "___\n",
    "პასუხი:\n",
    "\n",
    "სიმრავლეების თანაკვეთის განმარტებიდან გამომდინარე, თანაკვეთა არ ითვალისწინებს სიმრავლეების მიმდევრობას, ამიტომ $A \\cap B = B \\cap A$"
   ]
  },
  {
   "cell_type": "markdown",
   "metadata": {},
   "source": [
    "#### Prove that:\n",
    "\n",
    "if $B \\subset A$ then $A \\cup B = A$\n",
    "___\n",
    "პასუხი:\n",
    "\n",
    "დავუშვათ $A \\cup B \\ne A$, მაშინ არსებობს ისეთი $b \\in B$ და $b \\notin A$, რაც ეწინააღმდეგება პირობას $B \\subset A$.\n",
    "\n",
    "რ.დ.გ. "
   ]
  },
  {
   "cell_type": "markdown",
   "metadata": {},
   "source": [
    "#### Prove that:\n",
    "\n",
    "$A \\cup B = B \\cup A$\n",
    "___\n",
    "პასუხი:\n",
    "\n",
    "სიმრავლეების გაერთიანების განმარტებიდან გამომდინარე, გაერთიანება არ ითვალისწინებს სიმრავლეების მიმდევრობას, ამიტომ $A \\cup B = B \\cup A$\n"
   ]
  },
  {
   "cell_type": "markdown",
   "metadata": {},
   "source": [
    "#### Prove that:\n",
    "- for every injection $m:A \\to B$ and pair of functions $f, g :C \\to A$: if $m \\circ f = m \\circ g$ then $f = g$ and vice-versa\n",
    "___\n",
    "პასუხი:\n",
    "\n",
    "დავუშვათ $f \\ne g$, მაშინ უნდა არსებობდეს $a \\in A$ რომლისთვისაც $f(a) \\ne g(a)$, რადგან m არის ინექცია განსხვავებული ელემენტების ასახვა B დან უნდა მოხდეს განსხვავებულ $c \\in C$ ში ,\n",
    "მაგრამ რადგან კომპოზიციები ტოლია ნიშნავს რომ ნებისმიერი $a \\in A$ სთვის $m(f(a))=m(g(a))$ ეს კი ეწინააღმდეგება დაშვებას.\n",
    "\n",
    "რ.დ.გ. \n",
    "\n",
    "___\n",
    "პასუხი:\n",
    "\n",
    "პირობიდან -> $g(e(a)) = f(e(a))$ სადაც e ის სურექციურობიდან გამომდინარე e(a) მოიცავს ყველა $b \\in B$ (ანუ არ არსებობს $b \\in B$ რომლისთვისაც $e(a) \\ne b$), ანუ ფორმულაში შეგვიძლია ჩავსვათ b , და მივიღებთ $f(b) = g(b)$ \n",
    "\n",
    "- for every surjection $e:A \\to B$ and every pair of functions $f, g :B \\to C$: if $f \\circ e = g \\circ e$ then $f = g$ and vice-versa\n",
    "___"
   ]
  },
  {
   "cell_type": "markdown",
   "metadata": {},
   "source": [
    "#### Prove that \n",
    "- composition of injections is injection itself\n",
    "___\n",
    "პასუხი:\n",
    "\n",
    "დავუშვათ კომპოზიცია არ არის ინექცია, მაშინ არსებობს ისეთი $a',a'' \\in A$ რომლისთვისაც $f(g(a')) = f(g(a''))$ და $a' \\ne a''$, სადაც f და g ინექციებია\n",
    "\n",
    "g ს ინექციურობიდან გამომდინარეობს რომ $g(a') \\ne g(a'')$\n",
    "\n",
    "f ის ინექციურობიდან კი -> $f(g(a')) \\ne f(g(a''))$\n",
    "რაც დაშვებას ეწინააღმდეგება.\n",
    "\n",
    "რ.დ.გ.\n",
    "___\n",
    "- composition of surjections is surjection itself\n",
    "___\n",
    "პასუხი:\n",
    "\n",
    "\n",
    "\n",
    "___\n",
    "- composition of bijections is bijection itself\n",
    "___\n",
    "პასუხი:\n",
    "\n",
    "რადგან ბიექცია სურექციაცაა და ინექციაც, წინა დამტკიცებების გამოყენებით გამოდის რომ ბიექციების კომპოზიცია არის ბიექცია.\n",
    "___\n",
    "\n",
    "or give a counterexamples"
   ]
  },
  {
   "cell_type": "markdown",
   "metadata": {},
   "source": [
    "#### Prove that for each set $A$:\n",
    "- $A \\cong A$\n",
    "___\n",
    "პასუხი:\n",
    "\n",
    "თავის თავზე შეგვიძლია ავსახოთ თითოეული ელემენტი, ამიტომ არსებობს ბექცია -> ნებისმიერი სიმრავლე არის თავის თავის ექვივალენტური.\n",
    "\n",
    "___\n",
    "- if $B \\cong A$ then $B \\cong A$ for every pair of sets $A$ and $B$\n",
    "___\n",
    "პასუხი:\n",
    "\n",
    "ბიექცია სიმეტრიულია რადგან თითოეულ სიმრავლეს ზუსტად ერთი ელემენტი შეესაბამება მეორე სიმრავლიდან -> ექვივალენტობაც სიმეტრიულია.\n",
    "\n",
    "___\n",
    "- if $A \\cong B$ and $B \\cong C$ then $A \\cong C$ for every triplet $A$, $B$ and $C$\n",
    "___\n",
    "პასუხი:\n",
    "\n",
    "ზემოთ დავამტკიცე რომ A დან B ში თუ არსებობს ბიექცია g და B დან C ში ბიექცია f მაშინ მათი კომპოზიციაც $f \\circ g$ ც ბიექციაა A->C.\n",
    "ამიტომ $ A \\cong C$ \n",
    "___"
   ]
  },
  {
   "cell_type": "markdown",
   "metadata": {},
   "source": [
    "#### Prove that:\n",
    "\n",
    "there exists a bijection between set of natural and even numbers\n",
    "\n",
    "პასუხი: \n",
    "\n",
    "მაგ. f(x) = 2x  , $x \\in N$"
   ]
  },
  {
   "cell_type": "markdown",
   "metadata": {},
   "source": [
    "#### Prove that:\n",
    "\n",
    "if we have a bijection between two finite sets than they have an equal number of elements\n",
    "\n",
    "___\n",
    "პასუხი:\n",
    "\n",
    "ვთქვათ გვაქვს ორი სასრული სიმრავლე A,B და A ს ელემენტების რაოდენობა არის n.\n",
    "\n",
    "ამ სიმრავლეებს შორის ბიექცია თუ არსებობს ,  დაუშვათ საწინააღმდეგო , რომ B ს ზომა განსხვავებულია , მაშინ :\n",
    "\n",
    "ან n ზე მეტია :\n",
    "\n",
    "- რაც არღვევს სურექციის ბირობას \n",
    "\n",
    "ან n ზე ნაკლებია:\n",
    "\n",
    "- რაც ინექციის პირობას არღვევს.\n",
    "\n",
    "ამიტომ A და B ს ზომა ტოლია. "
   ]
  },
  {
   "cell_type": "markdown",
   "metadata": {},
   "source": [
    "#### Prove that:\n",
    "\n",
    "$A \\times B \\cong B \\times A$\n",
    "\n",
    "პასუხი: ნამრავლის ზომა ტოლი გამოვა , და ერთმანეთის ექვივალენტური იქნება."
   ]
  },
  {
   "cell_type": "markdown",
   "metadata": {},
   "source": [
    "$\\cap_{i\\in I}A_i$ and $\\cup_{i\\in I}A_i$"
   ]
  },
  {
   "cell_type": "code",
   "execution_count": null,
   "metadata": {},
   "outputs": [],
   "source": [
    "# Inplement in python\n",
    "\n",
    "def intersectSets(sets):\n",
    "    n = len(sets)\n",
    "    result = sets[0]\n",
    "    for i in range(1, n):\n",
    "        result = set(result).intersection(sets[i])\n",
    "\n",
    "    return result\n",
    "\n",
    "def unionSets(sets):\n",
    "    n = len(sets)\n",
    "    result = sets[0]\n",
    "    for i in range(1, n):\n",
    "        result = set(result).union(sets[i])\n",
    "\n",
    "    return result\n",
    "\n",
    "\n",
    "s = [[1, 2],\n",
    "     ['A', 1, 2],\n",
    "     ['x', 1]]\n",
    "\n",
    "print(intersectSets(s))\n",
    "\n",
    "print(unionSets(s))\n"
   ]
  },
  {
   "cell_type": "markdown",
   "metadata": {},
   "source": [
    "We can also define cartesian product of any \"number\" of sets $\\prod_{i \\in I}{A_i}$"
   ]
  },
  {
   "cell_type": "code",
   "execution_count": null,
   "metadata": {},
   "outputs": [],
   "source": [
    "# Inplement in python\n",
    "\n",
    "def cartesianProduct(set_a, set_b):\n",
    "    result = []\n",
    "    for i in range(0, len(set_a)):\n",
    "        for j in range(0, len(set_b)):\n",
    "\n",
    "            if type(set_a[i]) != list:\n",
    "                set_a[i] = [set_a[i]]\n",
    "\n",
    "            temp = [num for num in set_a[i]]\n",
    "\n",
    "            temp.append(set_b[j])\n",
    "            result.append(temp)\n",
    "\n",
    "    return result\n",
    "\n",
    "\n",
    "def Cartesian(sets):\n",
    "    n = len(sets)\n",
    "    temp = sets[0]\n",
    "    for i in range(1, n):\n",
    "        temp = cartesianProduct(temp, sets[i])\n",
    "\n",
    "    return temp\n",
    "\n",
    "\n",
    "s = [[1, 2],\n",
    "     ['A', 'B'],\n",
    "     ['x', 'y', 'z']]\n",
    "\n",
    "print(Cartesian(s))"
   ]
  },
  {
   "cell_type": "markdown",
   "metadata": {},
   "source": [
    "#### Prove that:\n",
    "\n",
    "$$A \\cap (B \\cup C)=(A \\cap B) \\cup (A\\cap C)$$\n",
    "$$A \\cup (B \\cap C)=(A \\cup B) \\cap (A\\cup C)$$"
   ]
  },
  {
   "cell_type": "markdown",
   "metadata": {},
   "source": [
    "# Linear Algebra"
   ]
  },
  {
   "cell_type": "markdown",
   "metadata": {},
   "source": [
    "#### Prove that:\n",
    "\n",
    "$(AB)^{T} = B^{T}A^{T}$ for each pair of matrices $A, B \\in \\mathbb{R}^{n \\times m}$\n",
    "\n",
    "___\n",
    "პასუხი: A და B ს ზომებიდან გამომდინარე მათი გადამრავლება ვერ მოხდება."
   ]
  },
  {
   "cell_type": "markdown",
   "metadata": {},
   "source": [
    "## Functions on tensors"
   ]
  },
  {
   "cell_type": "markdown",
   "metadata": {},
   "source": [
    "#### Write combination for $XOR$ calculation"
   ]
  },
  {
   "cell_type": "code",
   "execution_count": null,
   "metadata": {},
   "outputs": [],
   "source": [
    "import math\n",
    "\n",
    "import numpy as np\n",
    "\n",
    "sig = np.vectorize(lambda x: 1 / (1 + math.exp(-x)))\n",
    "\n",
    "W = np.array([[-0.41441455, -0.95422935], [-1.52169275,  1.8023752]]) # Weights of first layer\n",
    "w = np.array([-1.03013289, 2.6564579]) # Weights of second layer\n",
    "b = np.array([-5.19637585]) # bias\n",
    "\n",
    "def ff(_X):\n",
    "    _X = np.dot(W.T, _X)\n",
    "    return sig(np.dot(w.T, _X) + b)\n",
    "\n",
    "BA = [[0, 0], [0, 1], [1, 0], [1, 1]]\n",
    "\n",
    "for ba in BA:\n",
    "    print(ba, np.around(ff(ba), decimals=1))\n",
    "\n"
   ]
  }
 ],
 "metadata": {
  "kernelspec": {
   "display_name": "Python 3",
   "language": "python",
   "name": "python3"
  },
  "language_info": {
   "codemirror_mode": {
    "name": "ipython",
    "version": 3
   },
   "file_extension": ".py",
   "mimetype": "text/x-python",
   "name": "python",
   "nbconvert_exporter": "python",
   "pygments_lexer": "ipython3",
   "version": "3.7.4"
  },
  "pycharm": {
   "stem_cell": {
    "cell_type": "raw",
    "source": [],
    "metadata": {
     "collapsed": false
    }
   }
  }
 },
 "nbformat": 4,
 "nbformat_minor": 4
}